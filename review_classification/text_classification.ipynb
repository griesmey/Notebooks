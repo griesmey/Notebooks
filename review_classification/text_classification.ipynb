{
 "metadata": {
  "name": ""
 },
 "nbformat": 3,
 "nbformat_minor": 0,
 "worksheets": [
  {
   "cells": [
    {
     "cell_type": "code",
     "collapsed": false,
     "input": [
      "from collections import Counter\n",
      "import re\n",
      "from sklearn.feature_extraction import DictVectorizer\n",
      "from sklearn.feature_extraction.text import TfidfTransformer\n",
      "from sklearn.feature_extraction.text import CountVectorizer\n",
      "\n",
      "from sklearn.ensemble import RandomForestClassifier as RF\n",
      "\n",
      "from itertools import islice, tee\n",
      "from nltk.corpus import stopwords"
     ],
     "language": "python",
     "metadata": {},
     "outputs": [],
     "prompt_number": 7
    },
    {
     "cell_type": "raw",
     "metadata": {},
     "source": [
      "Feature extraction step"
     ]
    },
    {
     "cell_type": "code",
     "collapsed": false,
     "input": [
      "def get_reviews():\n",
      "    for review in open('test.txt'):\n",
      "        review = review.replace('\\n', '')\n",
      "        yield review\n",
      "\n",
      "def tokenize(sentence):\n",
      "    words = re.findall(\"[a-zA-Z]+\", sentence)\n",
      "    bigram = []\n",
      "\n",
      "    for gram in generate_ngrams(words, 2):\n",
      "        bigram.append('{0} {1}'.format(gram[0], gram[1]))\n",
      "\n",
      "    # take out stop words\n",
      "#     words = [w for w in words if w not in stopwords.words(\"english\")]\n",
      "    words.extend(bigram)\n",
      "    \n",
      "    return words\n",
      "\n",
      "def generate_ngrams(lst, n):\n",
      "    ilst = lst\n",
      "    while True:\n",
      "        a, b = tee(ilst)\n",
      "        l = tuple(islice(a, n))\n",
      "        if len(l) == n:\n",
      "            yield l\n",
      "            next(b)\n",
      "            ilst = b\n",
      "        else:\n",
      "            break\n",
      "    \n",
      "def get_classes():\n",
      "    classes = {}\n",
      "    for\ttrain_pair in open('words_old.txt'):\n",
      "        train_pair = train_pair.lower().replace('\\n' , '').split()\n",
      "        classes[train_pair[0]] = train_pair[1]\n",
      "    return classes\n",
      "    \n",
      "def generate():\n",
      "    X = []\n",
      "    Y = []\n",
      "    x = []\n",
      "    y = []\n",
      "    classes = get_classes()\n",
      "\n",
      "    for review in get_reviews():\n",
      "        for word in review.lower().split():\n",
      "            if word in classes:\n",
      "                # take out the correlated feature\n",
      "#                 review = review.replace(word, '')\n",
      "                X.append(Counter(tokenize(review)))\n",
      "                Y.append(classes[word])\n",
      "#                 break\n",
      "    return X, Y"
     ],
     "language": "python",
     "metadata": {},
     "outputs": [],
     "prompt_number": 8
    },
    {
     "cell_type": "code",
     "collapsed": false,
     "input": [
      "print(tokenize('this is a sentence, thanks price'))"
     ],
     "language": "python",
     "metadata": {},
     "outputs": [
      {
       "output_type": "stream",
       "stream": "stdout",
       "text": [
        "['this', 'is', 'a', 'sentence', 'thanks', 'price', 'this is', 'is a', 'a sentence', 'sentence thanks', 'thanks price']\n"
       ]
      }
     ],
     "prompt_number": 5
    },
    {
     "cell_type": "code",
     "collapsed": false,
     "input": [
      "X, Y = generate()"
     ],
     "language": "python",
     "metadata": {},
     "outputs": [],
     "prompt_number": 6
    },
    {
     "cell_type": "code",
     "collapsed": false,
     "input": [
      "len(X)\n"
     ],
     "language": "python",
     "metadata": {},
     "outputs": [
      {
       "metadata": {},
       "output_type": "pyout",
       "prompt_number": 151,
       "text": [
        "940044"
       ]
      }
     ],
     "prompt_number": 151
    },
    {
     "cell_type": "raw",
     "metadata": {},
     "source": [
      "Balance the classes"
     ]
    },
    {
     "cell_type": "code",
     "collapsed": false,
     "input": [
      "from collections import defaultdict\n",
      "new_X = []\n",
      "new_Y = []\n",
      "counter = defaultdict(int)\n",
      "for x, y in zip(X, Y):\n",
      "    if counter[y] < 7000:\n",
      "        new_X.append(x)\n",
      "        new_Y.append(y)\n",
      "        counter[y] += 1"
     ],
     "language": "python",
     "metadata": {},
     "outputs": [],
     "prompt_number": 152
    },
    {
     "cell_type": "code",
     "collapsed": false,
     "input": [
      "len(new_X)"
     ],
     "language": "python",
     "metadata": {},
     "outputs": [
      {
       "metadata": {},
       "output_type": "pyout",
       "prompt_number": 153,
       "text": [
        "49000"
       ]
      }
     ],
     "prompt_number": 153
    },
    {
     "cell_type": "code",
     "collapsed": false,
     "input": [
      "v = DictVectorizer()\n",
      "X_v = v.fit_transform(new_X)\n",
      "t = TfidfTransformer(use_idf=False, sublinear_tf=True)\n",
      "X_t = t.fit_transform(X_v)\n",
      "del X"
     ],
     "language": "python",
     "metadata": {},
     "outputs": [],
     "prompt_number": 154
    },
    {
     "cell_type": "code",
     "collapsed": false,
     "input": [
      "X_t.shape"
     ],
     "language": "python",
     "metadata": {},
     "outputs": [
      {
       "metadata": {},
       "output_type": "pyout",
       "prompt_number": 155,
       "text": [
        "(49000, 466680)"
       ]
      }
     ],
     "prompt_number": 155
    },
    {
     "cell_type": "code",
     "collapsed": false,
     "input": [
      "from sklearn.linear_model import SGDClassifier"
     ],
     "language": "python",
     "metadata": {},
     "outputs": [],
     "prompt_number": 156
    },
    {
     "cell_type": "code",
     "collapsed": false,
     "input": [
      "from sklearn.cross_validation import train_test_split"
     ],
     "language": "python",
     "metadata": {},
     "outputs": [],
     "prompt_number": 157
    },
    {
     "cell_type": "heading",
     "level": 1,
     "metadata": {},
     "source": [
      "Creating testing, training and validation sets"
     ]
    },
    {
     "cell_type": "code",
     "collapsed": false,
     "input": [
      "X_train, X_test, y_train, y_test = train_test_split(X_t, new_Y, test_size=0.4, random_state=0)"
     ],
     "language": "python",
     "metadata": {},
     "outputs": [],
     "prompt_number": 158
    },
    {
     "cell_type": "code",
     "collapsed": false,
     "input": [
      "X_validation_set, X_testing_set, y_validation_set, y_testing_set = train_test_split(X_test, y_test,\n",
      "                                                                                    test_size=0.5, random_state=0)\n",
      "                                                                            "
     ],
     "language": "python",
     "metadata": {},
     "outputs": [],
     "prompt_number": 159
    },
    {
     "cell_type": "heading",
     "level": 1,
     "metadata": {},
     "source": [
      "train"
     ]
    },
    {
     "cell_type": "code",
     "collapsed": false,
     "input": [
      "#clf_ = SGDClassifier(penalty=\"l1\", loss='log', alpha=0.000001) # 0.82945893257807035\n",
      "clf_ = SGDClassifier(penalty=\"elasticnet\", loss='log', alpha=0.000001, n_jobs=4)\n",
      "\n",
      "clf_.fit(X_train, y_train)\n"
     ],
     "language": "python",
     "metadata": {},
     "outputs": [
      {
       "metadata": {},
       "output_type": "pyout",
       "prompt_number": 162,
       "text": [
        "SGDClassifier(alpha=1e-06, class_weight=None, epsilon=0.1, eta0=0.0,\n",
        "       fit_intercept=True, l1_ratio=0.15, learning_rate='optimal',\n",
        "       loss='log', n_iter=5, n_jobs=4, penalty='elasticnet', power_t=0.5,\n",
        "       random_state=None, rho=None, shuffle=False, verbose=0,\n",
        "       warm_start=False)"
       ]
      }
     ],
     "prompt_number": 162
    },
    {
     "cell_type": "code",
     "collapsed": false,
     "input": [
      "clf_.score(X_validation_set, y_validation_set)"
     ],
     "language": "python",
     "metadata": {},
     "outputs": [
      {
       "metadata": {},
       "output_type": "pyout",
       "prompt_number": 163,
       "text": [
        "0.55704081632653057"
       ]
      }
     ],
     "prompt_number": 163
    },
    {
     "cell_type": "code",
     "collapsed": false,
     "input": [
      "clf_.score(X_validation_set, y_validation_set)"
     ],
     "language": "python",
     "metadata": {},
     "outputs": [
      {
       "metadata": {},
       "output_type": "pyout",
       "prompt_number": 164,
       "text": [
        "0.55704081632653057"
       ]
      }
     ],
     "prompt_number": 164
    },
    {
     "cell_type": "code",
     "collapsed": false,
     "input": [
      "from sklearn.svm import LinearSVC\n",
      "\n",
      "# svc = LogisticRegression(dual=True, C=30)\n",
      "svc = LinearSVC()\n",
      "svc.fit(X_train, y_train)"
     ],
     "language": "python",
     "metadata": {},
     "outputs": [
      {
       "metadata": {},
       "output_type": "pyout",
       "prompt_number": 165,
       "text": [
        "LinearSVC(C=1.0, class_weight=None, dual=True, fit_intercept=True,\n",
        "     intercept_scaling=1, loss='l2', multi_class='ovr', penalty='l2',\n",
        "     random_state=None, tol=0.0001, verbose=0)"
       ]
      }
     ],
     "prompt_number": 165
    },
    {
     "cell_type": "code",
     "collapsed": false,
     "input": [
      "svc.score(X_validation_set, y_validation_set)"
     ],
     "language": "python",
     "metadata": {},
     "outputs": [
      {
       "metadata": {},
       "output_type": "pyout",
       "prompt_number": 166,
       "text": [
        "0.58989795918367349"
       ]
      }
     ],
     "prompt_number": 166
    },
    {
     "cell_type": "code",
     "collapsed": false,
     "input": [
      "svc.score(X_validation_set, y_validation_set)"
     ],
     "language": "python",
     "metadata": {},
     "outputs": [
      {
       "metadata": {},
       "output_type": "pyout",
       "prompt_number": 167,
       "text": [
        "0.58989795918367349"
       ]
      }
     ],
     "prompt_number": 167
    },
    {
     "cell_type": "heading",
     "level": 1,
     "metadata": {},
     "source": [
      "K-fold testing"
     ]
    },
    {
     "cell_type": "code",
     "collapsed": false,
     "input": [
      "from sklearn.cross_validation import StratifiedKFold as KFold\n",
      "from sklearn.metrics import classification_report\n",
      "\n",
      "namesClasses = ['Satisfaction', 'Content', 'Stability', 'Security',\n",
      "          'Privacy', 'Pricing', 'Usefulness']\n",
      "\n",
      "kf = KFold(new_Y, n_folds=5)\n",
      "y_pred = new_Y * 0\n",
      "\n",
      "for train, test in kf:\n",
      "    X_train, X_test, y_train, y_test = X_t[train,:], X_t[test,:], new_Y[train], new_Y[test]\n",
      "    clf_.fit(X_train, y_train)\n",
      "    y_pred[test] = clf.predict(X_test)\n",
      "print classification_report(new_Y, y_pred, target_names=namesClasses)"
     ],
     "language": "python",
     "metadata": {},
     "outputs": [
      {
       "ename": "TypeError",
       "evalue": "only integer arrays with one element can be converted to an index",
       "output_type": "pyerr",
       "traceback": [
        "\u001b[0;31m---------------------------------------------------------------------------\u001b[0m\n\u001b[0;31mTypeError\u001b[0m                                 Traceback (most recent call last)",
        "\u001b[0;32m<ipython-input-24-48afe68a0926>\u001b[0m in \u001b[0;36m<module>\u001b[0;34m()\u001b[0m\n\u001b[1;32m      9\u001b[0m \u001b[0;34m\u001b[0m\u001b[0m\n\u001b[1;32m     10\u001b[0m \u001b[0;32mfor\u001b[0m \u001b[0mtrain\u001b[0m\u001b[0;34m,\u001b[0m \u001b[0mtest\u001b[0m \u001b[0;32min\u001b[0m \u001b[0mkf\u001b[0m\u001b[0;34m:\u001b[0m\u001b[0;34m\u001b[0m\u001b[0m\n\u001b[0;32m---> 11\u001b[0;31m     \u001b[0mX_train\u001b[0m\u001b[0;34m,\u001b[0m \u001b[0mX_test\u001b[0m\u001b[0;34m,\u001b[0m \u001b[0my_train\u001b[0m\u001b[0;34m,\u001b[0m \u001b[0my_test\u001b[0m \u001b[0;34m=\u001b[0m \u001b[0mX_t\u001b[0m\u001b[0;34m[\u001b[0m\u001b[0mtrain\u001b[0m\u001b[0;34m,\u001b[0m\u001b[0;34m:\u001b[0m\u001b[0;34m]\u001b[0m\u001b[0;34m,\u001b[0m \u001b[0mX_t\u001b[0m\u001b[0;34m[\u001b[0m\u001b[0mtest\u001b[0m\u001b[0;34m,\u001b[0m\u001b[0;34m:\u001b[0m\u001b[0;34m]\u001b[0m\u001b[0;34m,\u001b[0m \u001b[0mnew_Y\u001b[0m\u001b[0;34m[\u001b[0m\u001b[0mtrain\u001b[0m\u001b[0;34m]\u001b[0m\u001b[0;34m,\u001b[0m \u001b[0mnew_Y\u001b[0m\u001b[0;34m[\u001b[0m\u001b[0mtest\u001b[0m\u001b[0;34m]\u001b[0m\u001b[0;34m\u001b[0m\u001b[0m\n\u001b[0m\u001b[1;32m     12\u001b[0m     \u001b[0mclf_\u001b[0m\u001b[0;34m.\u001b[0m\u001b[0mfit\u001b[0m\u001b[0;34m(\u001b[0m\u001b[0mX_train\u001b[0m\u001b[0;34m,\u001b[0m \u001b[0my_train\u001b[0m\u001b[0;34m)\u001b[0m\u001b[0;34m\u001b[0m\u001b[0m\n\u001b[1;32m     13\u001b[0m     \u001b[0my_pred\u001b[0m\u001b[0;34m[\u001b[0m\u001b[0mtest\u001b[0m\u001b[0;34m]\u001b[0m \u001b[0;34m=\u001b[0m \u001b[0mclf\u001b[0m\u001b[0;34m.\u001b[0m\u001b[0mpredict\u001b[0m\u001b[0;34m(\u001b[0m\u001b[0mX_test\u001b[0m\u001b[0;34m)\u001b[0m\u001b[0;34m\u001b[0m\u001b[0m\n",
        "\u001b[0;31mTypeError\u001b[0m: only integer arrays with one element can be converted to an index"
       ]
      }
     ],
     "prompt_number": 24
    },
    {
     "cell_type": "code",
     "collapsed": false,
     "input": [
      "from sklearn.svm import LinearSVC\n",
      "from sklearn.linear_model import LogisticRegression\n",
      "from sklearn.naive_bayes import MultinomialNB"
     ],
     "language": "python",
     "metadata": {},
     "outputs": [],
     "prompt_number": 25
    },
    {
     "cell_type": "code",
     "collapsed": false,
     "input": [
      "#svc = LogisticRegression(dual=True, C=30)  # 0.781 with n = 19\n",
      "#svc = LogisticRegression(dual=True, C=8)\n",
      "svc = MultinomialNB()"
     ],
     "language": "python",
     "metadata": {},
     "outputs": [],
     "prompt_number": 26
    },
    {
     "cell_type": "code",
     "collapsed": false,
     "input": [
      "svc.fit(X_train, y_train)"
     ],
     "language": "python",
     "metadata": {},
     "outputs": [
      {
       "metadata": {},
       "output_type": "pyout",
       "prompt_number": 27,
       "text": [
        "MultinomialNB(alpha=1.0, class_prior=None, fit_prior=True)"
       ]
      }
     ],
     "prompt_number": 27
    },
    {
     "cell_type": "code",
     "collapsed": false,
     "input": [
      "svc.score(X_validation_set, y_validation_set)"
     ],
     "language": "python",
     "metadata": {},
     "outputs": [
      {
       "metadata": {},
       "output_type": "pyout",
       "prompt_number": 28,
       "text": [
        "0.46336734693877552"
       ]
      }
     ],
     "prompt_number": 28
    },
    {
     "cell_type": "code",
     "collapsed": false,
     "input": [
      "svc.score(X_testing_set, y_testing_set)"
     ],
     "language": "python",
     "metadata": {},
     "outputs": [
      {
       "metadata": {},
       "output_type": "pyout",
       "prompt_number": 29,
       "text": [
        "0.46091836734693875"
       ]
      }
     ],
     "prompt_number": 29
    },
    {
     "cell_type": "raw",
     "metadata": {},
     "source": [
      "Create learning curve"
     ]
    },
    {
     "cell_type": "code",
     "collapsed": false,
     "input": [
      "X_train, X_test, y_train, y_test = train_test_split(X_t, new_Y, test_size=0.2, random_state=0)"
     ],
     "language": "python",
     "metadata": {},
     "outputs": [],
     "prompt_number": 31
    },
    {
     "cell_type": "code",
     "collapsed": false,
     "input": [
      "def learning_curves(clf_):\n",
      "    p = 0.05\n",
      "    test_errors = []\n",
      "    train_errors = []\n",
      "    while(p < 1.0):\n",
      "        X_cur_train, _, y_cur_train, _ = train_test_split(X_train, y_train, test_size=(1 - p), random_state=0)\n",
      "        clf_.fit(X_cur_train, y_cur_train)\n",
      "        train_error = clf_.score(X_cur_train, y_cur_train)\n",
      "        print('Training accuracy %s' % train_error)\n",
      "        train_errors.append(train_error)\n",
      "        test_error = clf_.score(X_test, y_test)\n",
      "        print('Test accuracy %s' % test_error)\n",
      "        test_errors.append(test_error)\n",
      "        p += 0.05"
     ],
     "language": "python",
     "metadata": {},
     "outputs": [],
     "prompt_number": 96
    },
    {
     "cell_type": "code",
     "collapsed": false,
     "input": [
      "learning_curves(svc)"
     ],
     "language": "python",
     "metadata": {},
     "outputs": [
      {
       "output_type": "stream",
       "stream": "stdout",
       "text": [
        "Training accuracy 0.997959183673\n",
        "Test accuracy 0.412704081633\n",
        "Training accuracy 0.995918367347"
       ]
      },
      {
       "output_type": "stream",
       "stream": "stdout",
       "text": [
        "\n",
        "Test accuracy 0.448418367347\n",
        "Training accuracy 0.99387755102"
       ]
      },
      {
       "output_type": "stream",
       "stream": "stdout",
       "text": [
        "\n",
        "Test accuracy 0.471275510204\n",
        "Training accuracy 0.991326530612"
       ]
      },
      {
       "output_type": "stream",
       "stream": "stdout",
       "text": [
        "\n",
        "Test accuracy 0.492908163265\n",
        "Training accuracy 0.989931972789"
       ]
      },
      {
       "output_type": "stream",
       "stream": "stdout",
       "text": [
        "\n",
        "Test accuracy 0.509132653061\n",
        "Training accuracy 0.988662131519"
       ]
      },
      {
       "output_type": "stream",
       "stream": "stdout",
       "text": [
        "\n",
        "Test accuracy 0.51887755102\n",
        "Training accuracy 0.986491739553"
       ]
      },
      {
       "output_type": "stream",
       "stream": "stdout",
       "text": [
        "\n",
        "Test accuracy 0.526071428571\n",
        "Training accuracy 0.985542988349"
       ]
      },
      {
       "output_type": "stream",
       "stream": "stdout",
       "text": [
        "\n",
        "Test accuracy 0.536683673469\n",
        "Training accuracy 0.984050192758"
       ]
      },
      {
       "output_type": "stream",
       "stream": "stdout",
       "text": [
        "\n",
        "Test accuracy 0.541632653061\n",
        "Training accuracy 0.983333333333"
       ]
      },
      {
       "output_type": "stream",
       "stream": "stdout",
       "text": [
        "\n",
        "Test accuracy 0.548571428571\n",
        "Training accuracy 0.981631517101"
       ]
      },
      {
       "output_type": "stream",
       "stream": "stdout",
       "text": [
        "\n",
        "Test accuracy 0.553316326531\n",
        "Training accuracy 0.979761904762"
       ]
      },
      {
       "output_type": "stream",
       "stream": "stdout",
       "text": [
        "\n",
        "Test accuracy 0.558826530612"
       ]
      },
      {
       "output_type": "stream",
       "stream": "stdout",
       "text": [
        "\n",
        "Training accuracy 0.979905808477"
       ]
      },
      {
       "output_type": "stream",
       "stream": "stdout",
       "text": [
        "\n",
        "Test accuracy 0.563928571429"
       ]
      },
      {
       "output_type": "stream",
       "stream": "stdout",
       "text": [
        "\n",
        "Training accuracy 0.978085519922"
       ]
      },
      {
       "output_type": "stream",
       "stream": "stdout",
       "text": [
        "\n",
        "Test accuracy 0.570102040816\n",
        "Training accuracy 0.976961451247"
       ]
      },
      {
       "output_type": "stream",
       "stream": "stdout",
       "text": [
        "\n",
        "Test accuracy 0.572397959184\n",
        "Training accuracy 0.975850340136"
       ]
      },
      {
       "output_type": "stream",
       "stream": "stdout",
       "text": [
        "\n",
        "Test accuracy 0.576989795918\n",
        "Training accuracy 0.974829931973"
       ]
      },
      {
       "output_type": "stream",
       "stream": "stdout",
       "text": [
        "\n",
        "Test accuracy 0.58137755102\n",
        "Training accuracy 0.97343159486"
       ]
      },
      {
       "output_type": "stream",
       "stream": "stdout",
       "text": [
        "\n",
        "Test accuracy 0.583928571429\n",
        "Training accuracy 0.972323666309"
       ]
      },
      {
       "output_type": "stream",
       "stream": "stdout",
       "text": [
        "\n",
        "Test accuracy 0.586887755102\n"
       ]
      }
     ],
     "prompt_number": 97
    },
    {
     "cell_type": "code",
     "collapsed": false,
     "input": [
      "import matplotlib.pyplot as plt\n",
      "%matplotlib inline\n",
      "\n",
      "n = range(0, len(train_errors))\n",
      "\n",
      "plt.plot(n, [1 - i for i in train_errors] , 'g-', n, [1 - i for i in test_errors], 'r-', label='error', linewidth=2)\n",
      "plt.show()"
     ],
     "language": "python",
     "metadata": {},
     "outputs": [
      {
       "metadata": {},
       "output_type": "display_data",
       "png": "[encoded data removed]",
       "text": [
        "<matplotlib.figure.Figure at 0x119210250>"
       ]
      }
     ],
     "prompt_number": 111
    },
    {
     "cell_type": "raw",
     "metadata": {},
     "source": [
      "Create predict function for review inputs"
     ]
    },
    {
     "cell_type": "code",
     "collapsed": false,
     "input": [
      "def predict_review(clf_, review):\n",
      "    d = ['Satisfaction', 'Content', 'Stability', 'Security',\n",
      "          'Privacy', 'Pricing', 'Usefulness']\n",
      "    \n",
      "    x = t.transform(v.transform(Counter(tokenize(review))))\n",
      "    return sorted([(d[i], p) for i, p in enumerate(clf_.predict_proba(x)[0]) if p > 0.2], key=lambda x: -x[1])\n",
      "    "
     ],
     "language": "python",
     "metadata": {},
     "outputs": [],
     "prompt_number": 98
    },
    {
     "cell_type": "raw",
     "metadata": {},
     "source": [
      "Try an example --- \"pretty cool app i really like the concept of following stories as opposed to people or sites excited to see where they go with it from here  latest update made the ui look much cleaner still not many options for sharing as of now (only reason i didn't give it a 5) but that should hopefully change with future updates\""
     ]
    },
    {
     "cell_type": "code",
     "collapsed": false,
     "input": [
      "review1 = \"pretty cool app i really like the concept of following stories as opposed to people or sites excited to see where they go with it from here  latest update made the ui look much cleaner still not many options for sharing as of now (only reason i didn't give it a 5) but that should hopefully change with future updates;\""
     ],
     "language": "python",
     "metadata": {},
     "outputs": [],
     "prompt_number": 99
    },
    {
     "cell_type": "code",
     "collapsed": false,
     "input": [
      "predict_review(clf_, \"this is a super funny app like it's really awesome and gets\ue00e\ue00e but maybe you should be able to store your videos in the app so you can look back on funny things get this ap\")"
     ],
     "language": "python",
     "metadata": {},
     "outputs": [
      {
       "metadata": {},
       "output_type": "pyout",
       "prompt_number": 101,
       "text": [
        "[('Privacy', 0.43030370976000792)]"
       ]
      }
     ],
     "prompt_number": 101
    },
    {
     "cell_type": "code",
     "collapsed": false,
     "input": [
      "review2 = \"i love this in many ways: easy to use; really helps me track calories; huge database; etc etc downsides:  twitchy ; needs more options for portion sizes (3rds wd be nice); items are excessively repeated; no way to track how you are doing across multiple days w/o going online nevertheless this is well worth the small cost, definitely recommend it\"\n",
      "predict_review(clf_, review2)"
     ],
     "language": "python",
     "metadata": {},
     "outputs": [
      {
       "metadata": {},
       "output_type": "pyout",
       "prompt_number": 102,
       "text": [
        "[('Pricing', 0.50637891531794832), ('Security', 0.20416192055056273)]"
       ]
      }
     ],
     "prompt_number": 102
    },
    {
     "cell_type": "code",
     "collapsed": false,
     "input": [
      "review3 = 'it lulls my grandsons right to sleep'\n",
      "predict_review(clf_, review3)"
     ],
     "language": "python",
     "metadata": {},
     "outputs": [
      {
       "metadata": {},
       "output_type": "pyout",
       "prompt_number": 103,
       "text": [
        "[('Privacy', 0.61536982807617091)]"
       ]
      }
     ],
     "prompt_number": 103
    },
    {
     "cell_type": "code",
     "collapsed": false,
     "input": [
      "review3 = \"\"\"enjoying this game it's pretty easy to learn yet challenging at the same time the instructions are pretty vague but you can pretty much figure everything out after a few times examplei didn't know that you go tap the machine in the bottom right corner & in a few seconds it dispenses a pill that will add 1 heart to a patient as long as they are not in line to check out i quickly learned this but some of their bonuses aren't explained very well if at all in the tutorial\"\"\"\n",
      "predict_review(clf_, review3)"
     ],
     "language": "python",
     "metadata": {},
     "outputs": [
      {
       "metadata": {},
       "output_type": "pyout",
       "prompt_number": 104,
       "text": [
        "[('Content', 0.29645346728152561), ('Satisfaction', 0.20806045376627161)]"
       ]
      }
     ],
     "prompt_number": 104
    },
    {
     "cell_type": "code",
     "collapsed": false,
     "input": [
      "review4 = \"the idea of this app is great but it is very unstable on the iphone and seems to revert to a web page version that isn't as mobile friendly this app needs better integration with home depot's money online shopping\"\n",
      "predict_review(clf_, review4)"
     ],
     "language": "python",
     "metadata": {},
     "outputs": [
      {
       "metadata": {},
       "output_type": "pyout",
       "prompt_number": 105,
       "text": [
        "[('Stability', 0.45881703274014324), ('Security', 0.22674362573901735)]"
       ]
      }
     ],
     "prompt_number": 105
    },
    {
     "cell_type": "code",
     "collapsed": false,
     "input": [
      "predict_review(clf_, 'this app sucks. it is not good at anything;  can I get my money back please???!!!')"
     ],
     "language": "python",
     "metadata": {},
     "outputs": [
      {
       "metadata": {},
       "output_type": "pyout",
       "prompt_number": 106,
       "text": [
        "[('Stability', 0.34463497512112207), ('Pricing', 0.29578894881673229)]"
       ]
      }
     ],
     "prompt_number": 106
    },
    {
     "cell_type": "code",
     "collapsed": false,
     "input": [
      "predict_review(clf_, \"i purchased this app months ago it is a favorite recently it is asking me to buy all the songs that we have had in the app what gives? is there something wrong? please help very frustrated customer\")"
     ],
     "language": "python",
     "metadata": {},
     "outputs": [
      {
       "metadata": {},
       "output_type": "pyout",
       "prompt_number": 107,
       "text": [
        "[('Stability', 0.44381997396083417), ('Pricing', 0.22184731079836245)]"
       ]
      }
     ],
     "prompt_number": 107
    },
    {
     "cell_type": "code",
     "collapsed": false,
     "input": [
      "predict_review(clf_, \"i love the article synopsis but i feel like the flipboard ux is easier to use the half scroll / page flip gets me once in a while - when the update is slightly longer than my current view\")"
     ],
     "language": "python",
     "metadata": {},
     "outputs": [
      {
       "metadata": {},
       "output_type": "pyout",
       "prompt_number": 108,
       "text": [
        "[('Content', 0.51377182343682015)]"
       ]
      }
     ],
     "prompt_number": 108
    },
    {
     "cell_type": "code",
     "collapsed": false,
     "input": [
      "predict_review(clf_, \" these days it helps for apps to filter through news and present the best this app is great and easy to scroll through to get the daily highlights\")"
     ],
     "language": "python",
     "metadata": {},
     "outputs": [
      {
       "metadata": {},
       "output_type": "pyout",
       "prompt_number": 109,
       "text": [
        "[('Content', 0.41898571157759673), ('Stability', 0.2013571126793022)]"
       ]
      }
     ],
     "prompt_number": 109
    },
    {
     "cell_type": "code",
     "collapsed": false,
     "input": [
      "predict_review(clf_,  \"i have been looking for a quality alternative to costly wsj and nyt subscriptions and this is it circa has great articles and all the info i need to  carry a conversation with someone on the topic i love it highly recommended\")"
     ],
     "language": "python",
     "metadata": {},
     "outputs": [
      {
       "metadata": {},
       "output_type": "pyout",
       "prompt_number": 110,
       "text": [
        "[('Content', 0.38363713376182923)]"
       ]
      }
     ],
     "prompt_number": 110
    },
    {
     "cell_type": "code",
     "collapsed": false,
     "input": [
      "from sklearn.externals import joblib"
     ],
     "language": "python",
     "metadata": {},
     "outputs": [],
     "prompt_number": 213
    },
    {
     "cell_type": "code",
     "collapsed": false,
     "input": [
      "joblib.dump(clf_, '../../review_classifier/review_classification.pkl')"
     ],
     "language": "python",
     "metadata": {},
     "outputs": [
      {
       "metadata": {},
       "output_type": "pyout",
       "prompt_number": 217,
       "text": [
        "['../../review_classifier/review_classification.pkl',\n",
        " '../../review_classifier/review_classification.pkl_01.npy',\n",
        " '../../review_classifier/review_classification.pkl_02.npy',\n",
        " '../../review_classifier/review_classification.pkl_03.npy',\n",
        " '../../review_classifier/review_classification.pkl_04.npy']"
       ]
      }
     ],
     "prompt_number": 217
    },
    {
     "cell_type": "code",
     "collapsed": false,
     "input": [
      "joblib.dump(v, '../../review_classifier/dict_vectorizer.pkl')"
     ],
     "language": "python",
     "metadata": {},
     "outputs": [
      {
       "metadata": {},
       "output_type": "pyout",
       "prompt_number": 227,
       "text": [
        "['../../review_classifier/dict_vectorizer.pkl']"
       ]
      }
     ],
     "prompt_number": 227
    },
    {
     "cell_type": "code",
     "collapsed": false,
     "input": [
      "joblib.dump(t, '../../review_classifier/tfidf_transformer.pkl')"
     ],
     "language": "python",
     "metadata": {},
     "outputs": [
      {
       "metadata": {},
       "output_type": "pyout",
       "prompt_number": 228,
       "text": [
        "['../../review_classifier/tfidf_transformer.pkl']"
       ]
      }
     ],
     "prompt_number": 228
    },
    {
     "cell_type": "code",
     "collapsed": false,
     "input": [],
     "language": "python",
     "metadata": {},
     "outputs": []
    }
   ],
   "metadata": {}
  }
 ]
}