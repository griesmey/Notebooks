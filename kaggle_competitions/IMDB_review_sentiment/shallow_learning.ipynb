{
 "metadata": {
  "name": ""
 },
 "nbformat": 3,
 "nbformat_minor": 0,
 "worksheets": [
  {
   "cells": [
    {
     "cell_type": "code",
     "collapsed": false,
     "input": [
      "import os\n",
      "import KaggleWord2VecUtility as util\n",
      "from sklearn.feature_extraction.text import TfidfVectorizer\n",
      "from sklearn.linear_model import LogisticRegression\n",
      "from sklearn import cross_validation\n",
      "import pandas as pd\n",
      "import numpy as np"
     ],
     "language": "python",
     "metadata": {},
     "outputs": [],
     "prompt_number": 38
    },
    {
     "cell_type": "code",
     "collapsed": false,
     "input": [
      "reload(util)"
     ],
     "language": "python",
     "metadata": {},
     "outputs": [
      {
       "metadata": {},
       "output_type": "pyout",
       "prompt_number": 39,
       "text": [
        "<module 'KaggleWord2VecUtility' from 'KaggleWord2VecUtility.py'>"
       ]
      }
     ],
     "prompt_number": 39
    },
    {
     "cell_type": "code",
     "collapsed": false,
     "input": [
      "train = pd.read_csv(os.path.join(os.path.dirname('.'), 'data', 'labeledTrainData.tsv'), header=0, \\\n",
      "                delimiter=\"\\t\", quoting=3)\n",
      "test = pd.read_csv(os.path.join(os.path.dirname('.'), 'data', 'testData.tsv'), header=0, delimiter=\"\\t\", \\\n",
      "               quoting=3)\n",
      "y = train[\"sentiment\"]\n",
      "print \"Cleaning and parsing movie reviews...\\n\"\n",
      "traindata = []\n",
      "for i in xrange( 0, len(train[\"review\"])):\n",
      "    traindata.append(\" \".join(util.KaggleWord2VecUtility.review_to_wordlist(train[\"review\"][i], False)))\n",
      "testdata = []\n",
      "for i in xrange(0,len(test[\"review\"])):\n",
      "    testdata.append(\" \".join(util.KaggleWord2VecUtility.review_to_wordlist(test[\"review\"][i], False)))\n",
      "print 'vectorizing... ',\n",
      "tfv = TfidfVectorizer(min_df=3,  max_features=None,\n",
      "        strip_accents='unicode', analyzer='word',token_pattern=r'\\w{1,}',\n",
      "        ngram_range=(1, 2), use_idf=1,smooth_idf=1,sublinear_tf=1,\n",
      "        stop_words = 'english')\n",
      "X_all = traindata + testdata\n",
      "lentrain = len(traindata)\n",
      "\n",
      "print \"fitting pipeline... \",\n",
      "tfv.fit(X_all)\n",
      "X_all = tfv.transform(X_all)\n",
      "\n",
      "X = X_all[:lentrain]\n",
      "X_test = X_all[lentrain:]"
     ],
     "language": "python",
     "metadata": {},
     "outputs": [
      {
       "output_type": "stream",
       "stream": "stdout",
       "text": [
        " Cleaning and parsing movie reviews...\n",
        "\n",
        "vectorizing... "
       ]
      },
      {
       "output_type": "stream",
       "stream": "stdout",
       "text": [
        " fitting pipeline... \n"
       ]
      }
     ],
     "prompt_number": 41
    },
    {
     "cell_type": "code",
     "collapsed": false,
     "input": [
      "X.shape"
     ],
     "language": "python",
     "metadata": {},
     "outputs": [
      {
       "metadata": {},
       "output_type": "pyout",
       "prompt_number": 42,
       "text": [
        "(25000, 309827)"
       ]
      }
     ],
     "prompt_number": 42
    },
    {
     "cell_type": "code",
     "collapsed": false,
     "input": [
      "model = LogisticRegression(penalty='l2', dual=True, tol=0.0001,\n",
      "                         C=6, fit_intercept=True, intercept_scaling=1.0,\n",
      "                         class_weight=None, random_state=None)\n",
      "# .8936 C=0.7\n",
      "# 0.8952 C=0.95\n",
      "# 0.8984 C=1.5\n",
      "# 0.8992 c=2\n",
      "# 0.9 c=5\n",
      "\n",
      "# 20 Fold CV Score:  0.964325504 C=7\n",
      "# 20 Fold CV Score:  0.963949312 C=5\n",
      "# 20 Fold CV Score:  0.964153344 C=6\n",
      "# 20 Fold CV Score:  0.964437504 C=8\n",
      "# 20 Fold CV Score:  0.964532224 C=9\n",
      "# 20 Fold CV Score:  0.964656256 C=12\n",
      "# 20 Fold CV Score:  0.964716544 C=15"
     ],
     "language": "python",
     "metadata": {},
     "outputs": [],
     "prompt_number": 60
    },
    {
     "cell_type": "heading",
     "level": 1,
     "metadata": {},
     "source": [
      "For checking and outputting model"
     ]
    },
    {
     "cell_type": "code",
     "collapsed": false,
     "input": [
      "print \"20 Fold CV Score: \", np.mean(cross_validation.cross_val_score(model, X, y, cv=20, scoring='roc_auc'))"
     ],
     "language": "python",
     "metadata": {},
     "outputs": [
      {
       "output_type": "stream",
       "stream": "stdout",
       "text": [
        "20 Fold CV Score:  "
       ]
      },
      {
       "output_type": "stream",
       "stream": "stdout",
       "text": [
        "0.964153344\n"
       ]
      }
     ],
     "prompt_number": 61
    },
    {
     "cell_type": "code",
     "collapsed": false,
     "input": [
      "print \"Retrain on all training data, predicting test labels...\\n\"\n",
      "model.fit(X,y)\n",
      "result = model.predict_proba(X_test)[:,1]\n",
      "output = pd.DataFrame( data={\"id\":test[\"id\"], \"sentiment\":result} )\n",
      "\n",
      "# Use pandas to write the comma-separated output file                                                                                                                                                        \n",
      "output.to_csv(os.path.join(os.path.dirname('.'), 'data', 'Bag_of_Words_model.csv'), index=False, quoting=3)\n",
      "\n",
      "print \"Wrote results to Bag_of_Words_model.csv\""
     ],
     "language": "python",
     "metadata": {},
     "outputs": [
      {
       "output_type": "stream",
       "stream": "stdout",
       "text": [
        "Retrain on all training data, predicting test labels...\n",
        "\n",
        "Wrote results to Bag_of_Words_model.csv"
       ]
      },
      {
       "output_type": "stream",
       "stream": "stdout",
       "text": [
        "\n"
       ]
      }
     ],
     "prompt_number": 59
    },
    {
     "cell_type": "heading",
     "level": 1,
     "metadata": {},
     "source": [
      "Learning Curves"
     ]
    },
    {
     "cell_type": "code",
     "collapsed": false,
     "input": [
      "from sklearn.cross_validation import train_test_split\n",
      "X_train, X_tester, y_train, y_tester = train_test_split(X, y, test_size=0.05, random_state=42)"
     ],
     "language": "python",
     "metadata": {},
     "outputs": [],
     "prompt_number": 48
    },
    {
     "cell_type": "code",
     "collapsed": false,
     "input": [
      "def plot_errors(train_error, test_error):\n",
      "    import matplotlib.pyplot as plt\n",
      "    %matplotlib inline\n",
      "\n",
      "    n = range(0, len(train_error))\n",
      "    \n",
      "    plt.plot(n, [1 - i for i in train_error] , 'g-', n, [1 - i for i in test_error], 'r-', label='error', linewidth=2)\n",
      "    plt.show()"
     ],
     "language": "python",
     "metadata": {},
     "outputs": [],
     "prompt_number": 49
    },
    {
     "cell_type": "code",
     "collapsed": false,
     "input": [
      "def learning_curves(clf_):\n",
      "    p = 0.05\n",
      "    test_errors = []\n",
      "    train_errors = []\n",
      "    while(p < 1.0):\n",
      "        X_cur_train, _, y_cur_train, _ = train_test_split(X_train, y_train, test_size=(1 - p), random_state=0)\n",
      "        clf_.fit(X_cur_train, y_cur_train)\n",
      "        train_error = clf_.score(X_cur_train, y_cur_train)\n",
      "        print('Training accuracy %s' % train_error)\n",
      "        train_errors.append(train_error)\n",
      "        test_error = clf_.score(X_tester, y_tester)\n",
      "        print('Test accuracy %s' % test_error)\n",
      "        test_errors.append(test_error)\n",
      "        p += 0.05\n",
      "    plot_errors(train_errors, test_errors)"
     ],
     "language": "python",
     "metadata": {},
     "outputs": [],
     "prompt_number": 50
    },
    {
     "cell_type": "code",
     "collapsed": false,
     "input": [
      "learning_curves(model)"
     ],
     "language": "python",
     "metadata": {},
     "outputs": [
      {
       "output_type": "stream",
       "stream": "stdout",
       "text": [
        "Training accuracy 1.0\n",
        "Test accuracy 0.8136\n",
        "Training accuracy 0.997894736842"
       ]
      },
      {
       "output_type": "stream",
       "stream": "stdout",
       "text": [
        "\n",
        "Test accuracy 0.856\n",
        "Training accuracy 0.995227400337"
       ]
      },
      {
       "output_type": "stream",
       "stream": "stdout",
       "text": [
        "\n",
        "Test accuracy 0.8664\n",
        "Training accuracy 0.992631578947"
       ]
      },
      {
       "output_type": "stream",
       "stream": "stdout",
       "text": [
        "\n",
        "Test accuracy 0.8744\n",
        "Training accuracy 0.990399191511"
       ]
      },
      {
       "output_type": "stream",
       "stream": "stdout",
       "text": [
        "\n",
        "Test accuracy 0.8736\n",
        "Training accuracy 0.989754385965"
       ]
      },
      {
       "output_type": "stream",
       "stream": "stdout",
       "text": [
        "\n",
        "Test accuracy 0.8768\n",
        "Training accuracy 0.987969201155"
       ]
      },
      {
       "output_type": "stream",
       "stream": "stdout",
       "text": [
        "\n",
        "Test accuracy 0.8784\n",
        "Training accuracy 0.986209074639"
       ]
      },
      {
       "output_type": "stream",
       "stream": "stdout",
       "text": [
        "\n",
        "Test accuracy 0.8896\n",
        "Training accuracy 0.984373537943"
       ]
      },
      {
       "output_type": "stream",
       "stream": "stdout",
       "text": [
        "\n",
        "Test accuracy 0.8896\n",
        "Training accuracy 0.983242105263"
       ]
      },
      {
       "output_type": "stream",
       "stream": "stdout",
       "text": [
        "\n",
        "Test accuracy 0.8896\n",
        "Training accuracy 0.982238554586"
       ]
      },
      {
       "output_type": "stream",
       "stream": "stdout",
       "text": [
        "\n",
        "Test accuracy 0.8888\n",
        "Training accuracy 0.980280701754"
       ]
      },
      {
       "output_type": "stream",
       "stream": "stdout",
       "text": [
        "\n",
        "Test accuracy 0.8944\n",
        "Training accuracy 0.979788819071"
       ]
      },
      {
       "output_type": "stream",
       "stream": "stdout",
       "text": [
        "\n",
        "Test accuracy 0.8912\n",
        "Training accuracy 0.979368421053"
       ]
      },
      {
       "output_type": "stream",
       "stream": "stdout",
       "text": [
        "\n",
        "Test accuracy 0.8952\n",
        "Training accuracy 0.978329216259"
       ]
      },
      {
       "output_type": "stream",
       "stream": "stdout",
       "text": [
        "\n",
        "Test accuracy 0.8944\n",
        "Training accuracy 0.977684210526"
       ]
      },
      {
       "output_type": "stream",
       "stream": "stdout",
       "text": [
        "\n",
        "Test accuracy 0.8952\n",
        "Training accuracy 0.976717689602"
       ]
      },
      {
       "output_type": "stream",
       "stream": "stdout",
       "text": [
        "\n",
        "Test accuracy 0.8952\n",
        "Training accuracy 0.976280701754"
       ]
      },
      {
       "output_type": "stream",
       "stream": "stdout",
       "text": [
        "\n",
        "Test accuracy 0.8936\n",
        "Training accuracy 0.975135183051"
       ]
      },
      {
       "output_type": "stream",
       "stream": "stdout",
       "text": [
        "\n",
        "Test accuracy 0.8992\n"
       ]
      },
      {
       "metadata": {},
       "output_type": "display_data",
       "png": "[encoded data removed]",
       "text": [
        "<matplotlib.figure.Figure at 0x10f084850>"
       ]
      }
     ],
     "prompt_number": 55
    },
    {
     "cell_type": "code",
     "collapsed": false,
     "input": [],
     "language": "python",
     "metadata": {},
     "outputs": []
    }
   ],
   "metadata": {}
  }
 ]
}